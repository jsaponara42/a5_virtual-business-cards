{
 "cells": [
  {
   "cell_type": "code",
   "execution_count": 38,
   "metadata": {},
   "outputs": [],
   "source": [
    "import os\n",
    "\n",
    "import openai\n",
    "from gpt_index import GPTSimpleVectorIndex, SimpleDirectoryReader, LLMPredictor, PromptHelper, Document\n",
    "from langchain import OpenAI\n",
    "\n",
    "import requests\n",
    "\n",
    "\n",
    "#OPENAI_API_KEY NEEDS TO BE IN ENVIRONMENT VARIABLES\n",
    "\n"
   ]
  },
  {
   "cell_type": "code",
   "execution_count": 29,
   "metadata": {},
   "outputs": [],
   "source": [
    "### DEFINE LLM \n",
    "\n",
    "#this is where you make adjustments to GPT-3. Max tokens only changes the max output tokens. llm_predictor has to be defined in the index variable. Not building the index, but setting the index variable.\n",
    "llm_predictor_var = LLMPredictor(llm=OpenAI(temperature = 0,model_name=\"text-davinci-003\", max_tokens = 1024) )\n",
    "\n"
   ]
  },
  {
   "cell_type": "code",
   "execution_count": 30,
   "metadata": {},
   "outputs": [],
   "source": [
    "\n",
    "### DOCUMENT TO ANALYZE ###\n",
    "# use simple directory reader to load the documents\n",
    "\n",
    "documents = SimpleDirectoryReader(r'C:\\Users\\John-CarlosSaponara(\\OneDrive - OneWorkplace\\Documents\\a7_code\\a5_open-ai\\b2_openai-transcript-summary\\text-docs').load_data()"
   ]
  },
  {
   "cell_type": "code",
   "execution_count": 41,
   "metadata": {},
   "outputs": [],
   "source": [
    "\n",
    "# open text doc and read it into a variable\n",
    "with open(r'C:\\Users\\John-CarlosSaponara(\\OneDrive - OneWorkplace\\Documents\\a7_code\\a5_open-ai\\b2_openai-transcript-summary\\text-docs\\transcript.txt', 'r') as file:\n",
    "    transcript = file.read()\n",
    "\n",
    "\n",
    "\n",
    "doc_test = Document(transcript)"
   ]
  },
  {
   "cell_type": "code",
   "execution_count": 42,
   "metadata": {},
   "outputs": [
    {
     "name": "stdout",
     "output_type": "stream",
     "text": [
      "> Adding chunk: Catherine: Catherine, and I'll be leading you t...\n",
      "> Adding chunk: is not only having them be good against certain...\n",
      "> Adding chunk: helpful. But in order to do it, you have to rea...\n",
      "> Adding chunk: paragraph one, I want to get specific feedback ...\n",
      "> Adding chunk: they are making it clear what their intentions ...\n",
      "> Adding chunk: where your mouth is. You know what I'm saying? ...\n",
      "> Adding chunk: die, and it was not a great feeling to feel lik...\n",
      "> Adding chunk: heard you correctly there, Sarah, it's right id...\n",
      "> Adding chunk: that really mean to me? Is that a lot, and what...\n",
      "> [build_index_from_documents] Total LLM token usage: 0 tokens\n",
      "> [build_index_from_documents] Total embedding token usage: 24476 tokens\n"
     ]
    }
   ],
   "source": [
    "index_test = GPTSimpleVectorIndex([doc_test] ,llm_predictor = llm_predictor_var)"
   ]
  },
  {
   "cell_type": "code",
   "execution_count": 31,
   "metadata": {},
   "outputs": [
    {
     "name": "stdout",
     "output_type": "stream",
     "text": [
      "> Adding chunk: Catherine: Catherine, and I'll be leading you t...\n",
      "> Adding chunk: is not only having them be good against certain...\n",
      "> Adding chunk: helpful. But in order to do it, you have to rea...\n",
      "> Adding chunk: paragraph one, I want to get specific feedback ...\n",
      "> Adding chunk: they are making it clear what their intentions ...\n",
      "> Adding chunk: where your mouth is. You know what I'm saying? ...\n",
      "> Adding chunk: die, and it was not a great feeling to feel lik...\n",
      "> Adding chunk: heard you correctly there, Sarah, it's right id...\n",
      "> Adding chunk: that really mean to me? Is that a lot, and what...\n",
      "> [build_index_from_documents] Total LLM token usage: 0 tokens\n",
      "> [build_index_from_documents] Total embedding token usage: 24476 tokens\n"
     ]
    }
   ],
   "source": [
    "### CHOOSE INDEX ###\n",
    "\n",
    "index = GPTSimpleVectorIndex(documents, llm_predictor= llm_predictor_var)"
   ]
  },
  {
   "cell_type": "code",
   "execution_count": 32,
   "metadata": {},
   "outputs": [],
   "source": [
    "# save index to disk\n",
    "index.save_to_disk('index_simple.json')"
   ]
  },
  {
   "cell_type": "code",
   "execution_count": 33,
   "metadata": {},
   "outputs": [],
   "source": [
    "# load index from disk\n",
    "index = GPTSimpleVectorIndex.load_from_disk('index_simple.json', llm_predictor= llm_predictor_var)"
   ]
  },
  {
   "cell_type": "code",
   "execution_count": 43,
   "metadata": {},
   "outputs": [
    {
     "name": "stdout",
     "output_type": "stream",
     "text": [
      "> [query] Total LLM token usage: 5084 tokens\n",
      "> [query] Total embedding token usage: 49 tokens\n"
     ]
    }
   ],
   "source": [
    "### QUERY ###\n",
    "vector_answer_test = index_test.query('''What are the top 5 things that make a company innovative / what does it mean for a company to be innovative? Pull out 2 quotes to support each reason\n",
    "\n",
    "Format:\n",
    "1. Reason\n",
    "a. Quote\n",
    "b. Quote \n",
    "''')"
   ]
  },
  {
   "cell_type": "code",
   "execution_count": 34,
   "metadata": {},
   "outputs": [
    {
     "name": "stdout",
     "output_type": "stream",
     "text": [
      "> [query] Total LLM token usage: 5127 tokens\n",
      "> [query] Total embedding token usage: 49 tokens\n"
     ]
    }
   ],
   "source": [
    "### QUERY ###\n",
    "vector_answer = index.query('''What are the top 5 things that make a company innovative / what does it mean for a company to be innovative? Pull out 2 quotes to support each reason\n",
    "\n",
    "Format:\n",
    "1. Reason\n",
    "a. Quote\n",
    "b. Quote \n",
    "''')"
   ]
  },
  {
   "cell_type": "code",
   "execution_count": 44,
   "metadata": {},
   "outputs": [],
   "source": [
    "# convert answer to a text file\n",
    "str_answer_test = str(vector_answer_test)\n",
    "\n",
    "# save answer to a text file\n",
    "with open('answer-test.txt', 'w') as f:\n",
    "    f.write(str_answer_test)\n"
   ]
  },
  {
   "cell_type": "code",
   "execution_count": 35,
   "metadata": {},
   "outputs": [],
   "source": [
    "# convert answer to a text file\n",
    "str_answer = str(vector_answer)\n",
    "\n",
    "# save answer to a text file\n",
    "with open('answer.txt', 'w') as f:\n",
    "    f.write(str_answer)\n",
    "\n",
    "    "
   ]
  }
 ],
 "metadata": {
  "kernelspec": {
   "display_name": "openAI",
   "language": "python",
   "name": "python3"
  },
  "language_info": {
   "codemirror_mode": {
    "name": "ipython",
    "version": 3
   },
   "file_extension": ".py",
   "mimetype": "text/x-python",
   "name": "python",
   "nbconvert_exporter": "python",
   "pygments_lexer": "ipython3",
   "version": "3.10.9"
  },
  "orig_nbformat": 4,
  "vscode": {
   "interpreter": {
    "hash": "408bb4482cda2d051983bea5e8c7674301d6c68314cd0fb1615450df3d6f1950"
   }
  }
 },
 "nbformat": 4,
 "nbformat_minor": 2
}
